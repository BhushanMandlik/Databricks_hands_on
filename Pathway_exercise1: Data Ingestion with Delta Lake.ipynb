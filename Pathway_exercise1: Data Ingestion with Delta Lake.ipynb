{
 "cells": [
  {
   "cell_type": "markdown",
   "metadata": {
    "application/vnd.databricks.v1+cell": {
     "cellMetadata": {},
     "inputWidgets": {},
     "nuid": "74286406-f6e1-4514-bf69-e6796cc79afc",
     "showTitle": false,
     "tableResultSettingsMap": {},
     "title": ""
    }
   },
   "source": [
    "### setup & load delta tables"
   ]
  },
  {
   "cell_type": "markdown",
   "metadata": {
    "application/vnd.databricks.v1+cell": {
     "cellMetadata": {},
     "inputWidgets": {},
     "nuid": "170072ce-d41e-4875-8a63-19689ceca845",
     "showTitle": false,
     "tableResultSettingsMap": {},
     "title": ""
    }
   },
   "source": [
    "Quering parquet files"
   ]
  },
  {
   "cell_type": "code",
   "execution_count": 0,
   "metadata": {
    "application/vnd.databricks.v1+cell": {
     "cellMetadata": {
      "byteLimit": 2048000,
      "implicitDf": true,
      "rowLimit": 10000
     },
     "inputWidgets": {},
     "nuid": "a3cc7291-4492-4d93-bbe5-6250a366f7e6",
     "showTitle": false,
     "tableResultSettingsMap": {},
     "title": ""
    }
   },
   "outputs": [],
   "source": [
    "%sql\n",
    "select * from parquet.`/Volumes/exercise/exercise/exercise/flights-1m.parquet`;"
   ]
  },
  {
   "cell_type": "markdown",
   "metadata": {
    "application/vnd.databricks.v1+cell": {
     "cellMetadata": {},
     "inputWidgets": {},
     "nuid": "57dac7aa-54d0-4f3d-9e14-82a623e35d82",
     "showTitle": false,
     "tableResultSettingsMap": {},
     "title": ""
    }
   },
   "source": [
    "CTAS"
   ]
  },
  {
   "cell_type": "code",
   "execution_count": 0,
   "metadata": {
    "application/vnd.databricks.v1+cell": {
     "cellMetadata": {
      "byteLimit": 2048000,
      "implicitDf": true,
      "rowLimit": 10000
     },
     "inputWidgets": {},
     "nuid": "b2006b1c-68d8-47ee-b729-f80dc84f2e36",
     "showTitle": false,
     "tableResultSettingsMap": {},
     "title": ""
    }
   },
   "outputs": [],
   "source": [
    "%sql\n",
    "USE CATALOG exercise;\n",
    "\n",
    "CREATE OR REPLACE TABLE exercise.FLIGHTS_DATA\n",
    "USING DELTA AS\n",
    "select * from parquet.`/Volumes/exercise/exercise/exercise/flights-1m.parquet`;\n",
    "\n",
    "DESCRIBE exercise.FLIGHTS_DATA;"
   ]
  },
  {
   "cell_type": "code",
   "execution_count": 0,
   "metadata": {
    "application/vnd.databricks.v1+cell": {
     "cellMetadata": {
      "byteLimit": 2048000,
      "implicitDf": true,
      "rowLimit": 10000
     },
     "inputWidgets": {},
     "nuid": "a289d4fa-d08b-4390-a28a-5de88810e9af",
     "showTitle": false,
     "tableResultSettingsMap": {},
     "title": ""
    }
   },
   "outputs": [],
   "source": [
    "%sql \n",
    "DESCRIBE EXTENDED exercise.FLIGHTS_DATA;"
   ]
  },
  {
   "cell_type": "markdown",
   "metadata": {
    "application/vnd.databricks.v1+cell": {
     "cellMetadata": {},
     "inputWidgets": {},
     "nuid": "2c6f530f-5f39-431b-85ae-f103e8dd5d67",
     "showTitle": false,
     "tableResultSettingsMap": {},
     "title": ""
    }
   },
   "source": [
    "CATALOG, SCHEMA & TABLES IN DATABRICKS"
   ]
  },
  {
   "cell_type": "code",
   "execution_count": 0,
   "metadata": {
    "application/vnd.databricks.v1+cell": {
     "cellMetadata": {
      "byteLimit": 2048000,
      "implicitDf": true,
      "rowLimit": 10000
     },
     "inputWidgets": {},
     "nuid": "d9b9348c-c8c7-4f6b-a0e5-4c2136fa2daf",
     "showTitle": false,
     "tableResultSettingsMap": {},
     "title": ""
    }
   },
   "outputs": [],
   "source": [
    "%sql \n",
    "DESCRIBE CATALOG `exercise`;"
   ]
  },
  {
   "cell_type": "markdown",
   "metadata": {
    "application/vnd.databricks.v1+cell": {
     "cellMetadata": {},
     "inputWidgets": {},
     "nuid": "c1717b4e-7379-41ac-8a59-a8af90b1d110",
     "showTitle": false,
     "tableResultSettingsMap": {},
     "title": ""
    }
   },
   "source": [
    "LOAD INCREMENTALLY"
   ]
  },
  {
   "cell_type": "code",
   "execution_count": 0,
   "metadata": {
    "application/vnd.databricks.v1+cell": {
     "cellMetadata": {
      "byteLimit": 2048000,
      "implicitDf": true,
      "rowLimit": 10000
     },
     "inputWidgets": {},
     "nuid": "ec3bc863-2621-492f-9481-7e1c3e3ec8c2",
     "showTitle": false,
     "tableResultSettingsMap": {},
     "title": ""
    }
   },
   "outputs": [],
   "source": [
    "%sql\n",
    "USE CATALOG exercise;\n",
    "\n",
    "DROP TABLE IF EXISTS exercise.FLIGHTS_DATA;\n",
    "\n",
    "CREATE TABLE exercise.FLIGHTS_DATA;\n",
    "\n",
    "COPY INTO exercise.FLIGHTS_DATA\n",
    "FROM '/Volumes/exercise/exercise/exercise/flights-1m.parquet'\n",
    "FILEFORMAT=parquet\n",
    "COPY_OPTIONS('mergeSchema' = 'true');"
   ]
  },
  {
   "cell_type": "markdown",
   "metadata": {
    "application/vnd.databricks.v1+cell": {
     "cellMetadata": {},
     "inputWidgets": {},
     "nuid": "11655045-4e70-4f76-88ae-97a6f8c05f0c",
     "showTitle": false,
     "tableResultSettingsMap": {},
     "title": ""
    }
   },
   "source": [
    "Quering CSV files"
   ]
  },
  {
   "cell_type": "code",
   "execution_count": 0,
   "metadata": {
    "application/vnd.databricks.v1+cell": {
     "cellMetadata": {
      "byteLimit": 2048000,
      "implicitDf": true,
      "rowLimit": 10000
     },
     "inputWidgets": {},
     "nuid": "8e0886a2-2cee-469a-bafe-51ec9c137fe2",
     "showTitle": false,
     "tableResultSettingsMap": {},
     "title": ""
    }
   },
   "outputs": [],
   "source": [
    "%sql\n",
    "CREATE OR REPLACE TEMP VIEW sample_csv_data\n",
    "AS\n",
    "select * from csv.`/Volumes/exercise/exercise/exercise/sample4.csv`;\n",
    "\n",
    "select * from sample_csv_data limit 5;"
   ]
  },
  {
   "cell_type": "markdown",
   "metadata": {
    "application/vnd.databricks.v1+cell": {
     "cellMetadata": {},
     "inputWidgets": {},
     "nuid": "e11d912b-0926-422c-9d53-0da288c6bddc",
     "showTitle": false,
     "tableResultSettingsMap": {},
     "title": ""
    }
   },
   "source": [
    "### BASIC TRANSFORMATIONS"
   ]
  },
  {
   "cell_type": "markdown",
   "metadata": {
    "application/vnd.databricks.v1+cell": {
     "cellMetadata": {},
     "inputWidgets": {},
     "nuid": "3c887253-2248-480c-b5ae-09a08d3199d0",
     "showTitle": false,
     "tableResultSettingsMap": {},
     "title": ""
    }
   },
   "source": [
    "cloning delta live tables"
   ]
  },
  {
   "cell_type": "code",
   "execution_count": 0,
   "metadata": {
    "application/vnd.databricks.v1+cell": {
     "cellMetadata": {
      "byteLimit": 2048000,
      "implicitDf": true,
      "rowLimit": 10000
     },
     "inputWidgets": {},
     "nuid": "478dd15d-729c-470c-a3d8-d3162762bcef",
     "showTitle": false,
     "tableResultSettingsMap": {},
     "title": ""
    }
   },
   "outputs": [],
   "source": [
    "%sql\n",
    "CREATE OR REPLACE TABLE deep_cloned_FLIGHTS_DATA DEEP CLONE exercise.FLIGHTS_DATA;"
   ]
  },
  {
   "cell_type": "code",
   "execution_count": 0,
   "metadata": {
    "application/vnd.databricks.v1+cell": {
     "cellMetadata": {
      "byteLimit": 2048000,
      "implicitDf": true,
      "rowLimit": 10000
     },
     "inputWidgets": {},
     "nuid": "2e9f215b-9257-4552-bf4b-1acaa2d0a99e",
     "showTitle": false,
     "tableResultSettingsMap": {},
     "title": ""
    }
   },
   "outputs": [],
   "source": [
    "%sql\n",
    "CREATE OR REPLACE TABLE shallow_cloned_FLIGHTS_DATA SHALLOW CLONE exercise.FLIGHTS_DATA;"
   ]
  },
  {
   "cell_type": "markdown",
   "metadata": {
    "application/vnd.databricks.v1+cell": {
     "cellMetadata": {},
     "inputWidgets": {},
     "nuid": "65d0f1cf-63af-4cc3-a3dc-08d24739e7c3",
     "showTitle": false,
     "tableResultSettingsMap": {},
     "title": ""
    }
   },
   "source": [
    "MERGE UPDATES"
   ]
  },
  {
   "cell_type": "code",
   "execution_count": 0,
   "metadata": {
    "application/vnd.databricks.v1+cell": {
     "cellMetadata": {
      "byteLimit": 2048000,
      "implicitDf": true,
      "rowLimit": 10000
     },
     "inputWidgets": {},
     "nuid": "c23b9c70-df39-4ac2-997c-821cd8792906",
     "showTitle": false,
     "tableResultSettingsMap": {},
     "title": ""
    }
   },
   "outputs": [],
   "source": [
    "%sql\n",
    "-- target table\n",
    "CREATE OR REPLACE TABLE Products(\n",
    "   ProductID INT,\n",
    "   ProductName VARCHAR(100),\n",
    "   Rate DECIMAL(10, 2)\n",
    ");\n",
    "\n",
    "INSERT INTO Products VALUES\n",
    "(1, 'Tea', 10.00),\n",
    "(2, 'Coffee', 20.00),\n",
    "(3, 'Muffin', 30.00),\n",
    "(4, 'Biscuit', 40.00);\n",
    "\n",
    "-- source table\n",
    "CREATE OR REPLACE TABLE UpdatedProducts(\n",
    "   ProductID INT,\n",
    "   ProductName VARCHAR(100),\n",
    "   Rate DECIMAL(10, 2)\n",
    ");\n",
    "\n",
    "INSERT INTO UpdatedProducts\n",
    "VALUES\n",
    "(1, 'Tea', 10.00),     \n",
    "(2, 'Coffee', 25.00),   \n",
    "(3, 'Muffin', 35.00),   \n",
    "(5, 'Pizza', 60.00);    "
   ]
  },
  {
   "cell_type": "code",
   "execution_count": 0,
   "metadata": {
    "application/vnd.databricks.v1+cell": {
     "cellMetadata": {
      "byteLimit": 2048000,
      "implicitDf": true,
      "rowLimit": 10000
     },
     "inputWidgets": {},
     "nuid": "2ba67c37-4347-468c-b7ed-73399678f4d2",
     "showTitle": false,
     "tableResultSettingsMap": {},
     "title": ""
    }
   },
   "outputs": [],
   "source": [
    "%sql\n",
    "MERGE INTO Products AS TARGET\n",
    "USING UpdatedProducts AS SOURCE\n",
    "ON TARGET.ProductID = SOURCE.ProductID\n",
    "WHEN MATCHED AND (TARGET.ProductName <> SOURCE.ProductName OR TARGET.Rate <> SOURCE.Rate)\n",
    "THEN \n",
    "   UPDATE SET TARGET.ProductName = SOURCE.ProductName, TARGET.Rate = SOURCE.Rate\n",
    "WHEN NOT MATCHED BY TARGET\n",
    "THEN \n",
    "   INSERT (ProductID, ProductName, Rate) \n",
    "   VALUES (SOURCE.ProductID, SOURCE.ProductName, SOURCE.Rate)\n",
    "WHEN NOT MATCHED BY SOURCE\n",
    "THEN \n",
    "   DELETE;"
   ]
  },
  {
   "cell_type": "markdown",
   "metadata": {
    "application/vnd.databricks.v1+cell": {
     "cellMetadata": {},
     "inputWidgets": {},
     "nuid": "c64151a1-0188-428f-9532-8c652d1eb4d3",
     "showTitle": false,
     "tableResultSettingsMap": {},
     "title": ""
    }
   },
   "source": [
    "UDF"
   ]
  },
  {
   "cell_type": "code",
   "execution_count": 0,
   "metadata": {
    "application/vnd.databricks.v1+cell": {
     "cellMetadata": {
      "byteLimit": 2048000,
      "rowLimit": 10000
     },
     "inputWidgets": {},
     "nuid": "04913d00-0c41-446b-a45c-1c2764e070f4",
     "showTitle": false,
     "tableResultSettingsMap": {},
     "title": ""
    }
   },
   "outputs": [],
   "source": [
    "import datetime\n",
    "\n",
    "def get_day_of_week(date_string):\n",
    "    date_object = datetime.datetime.strptime(date_string, '%Y-%m-%d')\n",
    "    return date_object.strftime('%A')\n",
    "  \n",
    "print(get_day_of_week('2025-05-06'))"
   ]
  },
  {
   "cell_type": "code",
   "execution_count": 0,
   "metadata": {
    "application/vnd.databricks.v1+cell": {
     "cellMetadata": {
      "byteLimit": 2048000,
      "implicitDf": true,
      "rowLimit": 10000
     },
     "inputWidgets": {},
     "nuid": "d4e2f96c-5f56-47c7-8b8a-0e556cc17f6f",
     "showTitle": false,
     "tableResultSettingsMap": {},
     "title": ""
    }
   },
   "outputs": [],
   "source": [
    "%sql\n",
    "CREATE OR REPLACE FUNCTION exercise.get_day_of_week(date_string STRING)\n",
    "RETURNS STRING\n",
    "RETURN date_format(date_string, 'EEEE');"
   ]
  },
  {
   "cell_type": "code",
   "execution_count": 0,
   "metadata": {
    "application/vnd.databricks.v1+cell": {
     "cellMetadata": {
      "byteLimit": 2048000,
      "rowLimit": 10000
     },
     "inputWidgets": {},
     "nuid": "fd0d88e6-9437-4e0c-b4be-8d658a9293d2",
     "showTitle": false,
     "tableResultSettingsMap": {},
     "title": ""
    }
   },
   "outputs": [],
   "source": [
    "get_day_of_week('2025-05-06')"
   ]
  },
  {
   "cell_type": "code",
   "execution_count": 0,
   "metadata": {
    "application/vnd.databricks.v1+cell": {
     "cellMetadata": {
      "byteLimit": 2048000,
      "implicitDf": true,
      "rowLimit": 10000
     },
     "inputWidgets": {},
     "nuid": "61f2e2b2-3e2b-44fa-ab15-fd9e568f0ab1",
     "showTitle": false,
     "tableResultSettingsMap": {},
     "title": ""
    }
   },
   "outputs": [],
   "source": [
    "%sql\n",
    "select *, exercise.get_day_of_week(FL_DATE) from parquet.`/Volumes/exercise/exercise/exercise/flights-1m.parquet`;"
   ]
  }
 ],
 "metadata": {
  "application/vnd.databricks.v1+notebook": {
   "computePreferences": null,
   "dashboards": [],
   "environmentMetadata": {
    "base_environment": "",
    "environment_version": "2"
   },
   "inputWidgetPreferences": null,
   "language": "python",
   "notebookMetadata": {
    "mostRecentlyExecutedCommandWithImplicitDF": {
     "commandId": 5877624566545561,
     "dataframes": [
      "_sqldf"
     ]
    },
    "pythonIndentUnit": 4
   },
   "notebookName": "Pathway_exercise1: Data Ingestion with Delta Lake",
   "widgets": {}
  },
  "language_info": {
   "name": "python"
  }
 },
 "nbformat": 4,
 "nbformat_minor": 0
}
