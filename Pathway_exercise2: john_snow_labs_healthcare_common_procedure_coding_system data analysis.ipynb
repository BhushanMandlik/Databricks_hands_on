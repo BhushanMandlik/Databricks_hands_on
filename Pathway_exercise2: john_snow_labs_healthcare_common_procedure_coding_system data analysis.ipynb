{
 "cells": [
  {
   "cell_type": "code",
   "execution_count": 0,
   "metadata": {
    "application/vnd.databricks.v1+cell": {
     "cellMetadata": {
      "byteLimit": 2048000,
      "implicitDf": true,
      "rowLimit": 10000
     },
     "inputWidgets": {},
     "nuid": "f4d070a8-5ebf-44d7-8096-283dd8c21963",
     "showTitle": false,
     "tableResultSettingsMap": {},
     "title": ""
    }
   },
   "outputs": [],
   "source": [
    "%sql\n",
    "use catalog `john_snow_labs_healthcare_common_procedure_coding_system`; \n",
    "select * from john_snow_labs_healthcare_common_procedure_coding_system.healthcare_common_procedure_coding_system.alpha_numeric_hcpcs_procedure_and_modifier_codes limit 5;"
   ]
  },
  {
   "cell_type": "code",
   "execution_count": 0,
   "metadata": {
    "application/vnd.databricks.v1+cell": {
     "cellMetadata": {
      "byteLimit": 2048000,
      "implicitDf": true,
      "rowLimit": 10000
     },
     "inputWidgets": {},
     "nuid": "99e30eba-a0ce-4c6b-bd95-5177d8900bb5",
     "showTitle": false,
     "tableResultSettingsMap": {},
     "title": ""
    }
   },
   "outputs": [],
   "source": [
    "%sql\n",
    "use catalog `john_snow_labs_healthcare_common_procedure_coding_system`; \n",
    "select * from `healthcare_common_procedure_coding_system`.`healthcare_common_procedure_coding_system_age_restriction` limit 5;"
   ]
  },
  {
   "cell_type": "code",
   "execution_count": 0,
   "metadata": {
    "application/vnd.databricks.v1+cell": {
     "cellMetadata": {
      "byteLimit": 2048000,
      "implicitDf": true,
      "rowLimit": 10000
     },
     "inputWidgets": {},
     "nuid": "bf4c406a-ff2a-4ddb-93df-b914b43621b5",
     "showTitle": false,
     "tableResultSettingsMap": {},
     "title": ""
    }
   },
   "outputs": [],
   "source": [
    "%sql\n",
    "use catalog `john_snow_labs_healthcare_common_procedure_coding_system`; \n",
    "select * from `healthcare_common_procedure_coding_system`.`healthcare_common_procedure_coding_system_gender_restriction` limit 100;"
   ]
  },
  {
   "cell_type": "code",
   "execution_count": 0,
   "metadata": {
    "application/vnd.databricks.v1+cell": {
     "cellMetadata": {
      "byteLimit": 2048000,
      "implicitDf": true,
      "rowLimit": 10000
     },
     "inputWidgets": {},
     "nuid": "5af01c78-5aa7-4a42-8226-51e247f38016",
     "showTitle": false,
     "tableResultSettingsMap": {},
     "title": ""
    }
   },
   "outputs": [],
   "source": [
    "%sql\n",
    "use catalog `john_snow_labs_healthcare_common_procedure_coding_system`; \n",
    "select * from `healthcare_common_procedure_coding_system`.`healthcare_common_procedure_coding_system_hcpcs_action_codes_2020` limit 100;"
   ]
  },
  {
   "cell_type": "code",
   "execution_count": 0,
   "metadata": {
    "application/vnd.databricks.v1+cell": {
     "cellMetadata": {
      "byteLimit": 2048000,
      "implicitDf": true,
      "rowLimit": 10000
     },
     "inputWidgets": {},
     "nuid": "0643a2a5-e0f5-40e2-9817-ac3d6f6dd972",
     "showTitle": false,
     "tableResultSettingsMap": {},
     "title": ""
    }
   },
   "outputs": [],
   "source": [
    "%sql\n",
    "use catalog `john_snow_labs_healthcare_common_procedure_coding_system`; \n",
    "select * from `healthcare_common_procedure_coding_system`.`healthcare_common_procedure_coding_system_mapping_2015_and_2019` limit 100;"
   ]
  },
  {
   "cell_type": "code",
   "execution_count": 0,
   "metadata": {
    "application/vnd.databricks.v1+cell": {
     "cellMetadata": {
      "byteLimit": 2048000,
      "implicitDf": true,
      "rowLimit": 10000
     },
     "inputWidgets": {},
     "nuid": "e3220a36-ae01-4261-a329-032d797a14d4",
     "showTitle": false,
     "tableResultSettingsMap": {},
     "title": ""
    }
   },
   "outputs": [],
   "source": [
    "%sql\n",
    "use catalog `john_snow_labs_healthcare_common_procedure_coding_system`; \n",
    "select * from `healthcare_common_procedure_coding_system`.`healthcare_common_procedure_coding_system_mapping_quarterly_files` limit 100;"
   ]
  },
  {
   "cell_type": "code",
   "execution_count": 0,
   "metadata": {
    "application/vnd.databricks.v1+cell": {
     "cellMetadata": {
      "byteLimit": 2048000,
      "implicitDf": true,
      "rowLimit": 10000
     },
     "inputWidgets": {},
     "nuid": "22642d16-96b9-4bab-83cc-232b11d13737",
     "showTitle": false,
     "tableResultSettingsMap": {},
     "title": ""
    }
   },
   "outputs": [],
   "source": [
    "%sql\n",
    "use catalog `john_snow_labs_healthcare_common_procedure_coding_system`; \n",
    "select * from `healthcare_common_procedure_coding_system`.`list_of_cpt_and_hcpcs_codes` limit 100;"
   ]
  },
  {
   "cell_type": "code",
   "execution_count": 0,
   "metadata": {
    "application/vnd.databricks.v1+cell": {
     "cellMetadata": {
      "byteLimit": 2048000,
      "implicitDf": true,
      "rowLimit": 10000
     },
     "inputWidgets": {},
     "nuid": "64988337-bf3c-46d2-ae17-141cd0ab941e",
     "showTitle": false,
     "tableResultSettingsMap": {},
     "title": ""
    }
   },
   "outputs": [],
   "source": [
    "%sql\n",
    "use catalog `john_snow_labs_healthcare_common_procedure_coding_system`; \n",
    "select * from `healthcare_common_procedure_coding_system`.`medicare_risk_adjustment_eligible_cpt_and_hcpcs_codes` limit 100;"
   ]
  },
  {
   "cell_type": "code",
   "execution_count": 0,
   "metadata": {
    "application/vnd.databricks.v1+cell": {
     "cellMetadata": {
      "byteLimit": 2048000,
      "implicitDf": true,
      "rowLimit": 10000
     },
     "inputWidgets": {},
     "nuid": "ab8446c9-0a62-47a9-87a7-84ce7b73709b",
     "showTitle": false,
     "tableResultSettingsMap": {},
     "title": ""
    }
   },
   "outputs": [],
   "source": [
    "%sql\n",
    "use catalog `john_snow_labs_healthcare_common_procedure_coding_system`; \n",
    "select * from `healthcare_common_procedure_coding_system`.`value_modifier_puf_performance_year_2016` limit 100;"
   ]
  }
 ],
 "metadata": {
  "application/vnd.databricks.v1+notebook": {
   "computePreferences": null,
   "dashboards": [],
   "environmentMetadata": {
    "base_environment": "",
    "environment_version": "2"
   },
   "inputWidgetPreferences": null,
   "language": "python",
   "notebookMetadata": {
    "mostRecentlyExecutedCommandWithImplicitDF": {
     "commandId": 6066637792799946,
     "dataframes": [
      "_sqldf"
     ]
    },
    "pythonIndentUnit": 4
   },
   "notebookName": "Pathway_exercise2: john_snow_labs_healthcare_common_procedure_coding_system data analysis",
   "widgets": {}
  },
  "language_info": {
   "name": "python"
  }
 },
 "nbformat": 4,
 "nbformat_minor": 0
}
